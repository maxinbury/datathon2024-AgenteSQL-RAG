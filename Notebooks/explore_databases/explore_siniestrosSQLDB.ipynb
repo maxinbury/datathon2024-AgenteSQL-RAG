{
 "cells": [
  {
   "cell_type": "code",
   "execution_count": 3,
   "metadata": {},
   "outputs": [],
   "source": [
    "import sqlite3\n",
    "import pandas as pd\n",
    "from pyprojroot import here"
   ]
  },
  {
   "cell_type": "code",
   "execution_count": 9,
   "metadata": {},
   "outputs": [],
   "source": [
    "# Connect to SQLite database\n",
    "db_path = here('data/siniestros_procesados.db')\n",
    "conn = sqlite3.connect(db_path)"
   ]
  },
  {
   "cell_type": "code",
   "execution_count": 10,
   "metadata": {},
   "outputs": [
    {
     "name": "stdout",
     "output_type": "stream",
     "text": [
      "                    name\n",
      "0  siniestros_procesados\n"
     ]
    }
   ],
   "source": [
    "query = \"\"\"\n",
    "SELECT name FROM sqlite_master WHERE type='table';\n",
    "\"\"\"\n",
    "result = pd.read_sql_query(query, conn)\n",
    "print(result)"
   ]
  },
  {
   "cell_type": "code",
   "execution_count": 12,
   "metadata": {},
   "outputs": [
    {
     "name": "stdout",
     "output_type": "stream",
     "text": [
      "    provincia  total_siniestros\n",
      "0  CORRIENTES               141\n"
     ]
    }
   ],
   "source": [
    "query = \"\"\"\n",
    "SELECT provincia, COUNT(*) AS total_siniestros\n",
    "FROM siniestros_procesados\n",
    "GROUP BY provincia\n",
    "ORDER BY total_siniestros DESC;\n",
    "\"\"\"\n",
    "result = pd.read_sql_query(query, conn)\n",
    "print(result)"
   ]
  },
  {
   "cell_type": "code",
   "execution_count": 11,
   "metadata": {},
   "outputs": [
    {
     "name": "stdout",
     "output_type": "stream",
     "text": [
      "                    name\n",
      "0  siniestros_procesados\n"
     ]
    }
   ],
   "source": [
    "# Ejecutar consulta para listar las tablas\n",
    "tables = pd.read_sql_query(\"SELECT name FROM sqlite_master WHERE type='table';\", conn)\n",
    "\n",
    "# Mostrar las tablas\n",
    "print(tables)"
   ]
  }
 ],
 "metadata": {
  "kernelspec": {
   "display_name": "rag-sqlagent",
   "language": "python",
   "name": "python3"
  },
  "language_info": {
   "codemirror_mode": {
    "name": "ipython",
    "version": 3
   },
   "file_extension": ".py",
   "mimetype": "text/x-python",
   "name": "python",
   "nbconvert_exporter": "python",
   "pygments_lexer": "ipython3",
   "version": "3.10.12"
  }
 },
 "nbformat": 4,
 "nbformat_minor": 2
}
