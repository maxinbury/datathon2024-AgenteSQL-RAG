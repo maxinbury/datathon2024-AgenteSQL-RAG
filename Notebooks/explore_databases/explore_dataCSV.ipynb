{
 "cells": [
  {
   "cell_type": "code",
   "execution_count": 24,
   "metadata": {},
   "outputs": [],
   "source": [
    "import sqlite3\n",
    "import pandas as pd\n",
    "from pyprojroot import here"
   ]
  },
  {
   "cell_type": "code",
   "execution_count": 25,
   "metadata": {},
   "outputs": [],
   "source": [
    "# Connect to SQLite database\n",
    "db_path = here('data/siniestros_sqldb.db')\n",
    "conn = sqlite3.connect(db_path)"
   ]
  },
  {
   "cell_type": "code",
   "execution_count": 30,
   "metadata": {},
   "outputs": [
    {
     "name": "stdout",
     "output_type": "stream",
     "text": [
      "    ano_vehiculo  total_vehiculos\n",
      "0            NaN               42\n",
      "1         2018.0               22\n",
      "2         2023.0               20\n",
      "3         2016.0               18\n",
      "4         2014.0               17\n",
      "5         2019.0               16\n",
      "6         2017.0               16\n",
      "7         2010.0               14\n",
      "8         2013.0               13\n",
      "9         2011.0               13\n",
      "10        2020.0               12\n",
      "11        2015.0               12\n",
      "12        2021.0               11\n",
      "13        2022.0               10\n",
      "14        2024.0                8\n",
      "15        2012.0                6\n",
      "16        2008.0                3\n",
      "17        2006.0                3\n",
      "18        1998.0                3\n",
      "19        2009.0                2\n",
      "20        2005.0                2\n",
      "21        2000.0                2\n",
      "22        2025.0                1\n",
      "23        2007.0                1\n",
      "24        2004.0                1\n",
      "25        2002.0                1\n",
      "26        1999.0                1\n",
      "27        1993.0                1\n",
      "28        1991.0                1\n",
      "29        1980.0                1\n",
      "30        1979.0                1\n",
      "31        1977.0                1\n",
      "32        1975.0                1\n"
     ]
    }
   ],
   "source": [
    "query = \"\"\"\n",
    "SELECT ano_vehiculo, COUNT(*) AS total_vehiculos\n",
    "FROM siniestros_2024\n",
    "GROUP BY ano_vehiculo\n",
    "ORDER BY total_vehiculos DESC;\n",
    "\"\"\"\n",
    "result = pd.read_sql_query(query, conn)\n",
    "print(result)\n"
   ]
  },
  {
   "cell_type": "code",
   "execution_count": 31,
   "metadata": {},
   "outputs": [
    {
     "name": "stdout",
     "output_type": "stream",
     "text": [
      "  sustancias_peligrosas  total\n",
      "0                    No      2\n",
      "1                   S/D      2\n",
      "2                    Si      1\n"
     ]
    }
   ],
   "source": [
    "query = \"\"\"\n",
    "SELECT sustancias_peligrosas, COUNT(*) AS total\n",
    "FROM siniestros_2024\n",
    "WHERE sustancias_peligrosas IS NOT NULL\n",
    "GROUP BY sustancias_peligrosas;\n",
    "\"\"\"\n",
    "result = pd.read_sql_query(query, conn)\n",
    "print(result)"
   ]
  },
  {
   "cell_type": "code",
   "execution_count": 19,
   "metadata": {},
   "outputs": [
    {
     "name": "stdout",
     "output_type": "stream",
     "text": [
      "    provincia  total_siniestros\n",
      "0  CORRIENTES               276\n"
     ]
    }
   ],
   "source": [
    "query = \"\"\"\n",
    "SELECT provincia, COUNT(*) AS total_siniestros\n",
    "FROM siniestros_2024\n",
    "GROUP BY provincia\n",
    "ORDER BY total_siniestros DESC;\n",
    "\"\"\"\n",
    "result = pd.read_sql_query(query, conn)\n",
    "print(result)"
   ]
  },
  {
   "cell_type": "code",
   "execution_count": 29,
   "metadata": {},
   "outputs": [
    {
     "name": "stdout",
     "output_type": "stream",
     "text": [
      "          tipo_involucrado  total\n",
      "0                Automóvil    128\n",
      "1              Motocicleta    102\n",
      "2     Camioneta/Utilitario     24\n",
      "3      Transporte de carga      7\n",
      "4                Bicicleta      7\n",
      "5                   Peatón      4\n",
      "6  Transporte de pasajeros      2\n",
      "7                     Otro      2\n"
     ]
    }
   ],
   "source": [
    "query = \"\"\"\n",
    "SELECT tipo_involucrado, COUNT(*) AS total\n",
    "FROM siniestros_2024\n",
    "GROUP BY tipo_involucrado\n",
    "ORDER BY total DESC;\n",
    "\"\"\"\n",
    "result = pd.read_sql_query(query, conn)\n",
    "print(result)"
   ]
  },
  {
   "cell_type": "code",
   "execution_count": 33,
   "metadata": {},
   "outputs": [
    {
     "name": "stdout",
     "output_type": "stream",
     "text": [
      "         siniestro_fecha  total_siniestros\n",
      "0    2024-03-16 12:15:00                 4\n",
      "1    2024-01-06 12:00:00                 4\n",
      "2    2024-06-08 17:20:00                 3\n",
      "3    2024-04-07 22:26:00                 3\n",
      "4    2024-03-28 15:10:00                 3\n",
      "..                   ...               ...\n",
      "135  2024-03-29 11:30:00                 1\n",
      "136   2024-03-22 8:35:00                 1\n",
      "137  2024-02-24 12:00:00                 1\n",
      "138   2024-02-23 0:10:00                 1\n",
      "139  2024-01-11 23:30:00                 1\n",
      "\n",
      "[140 rows x 2 columns]\n"
     ]
    }
   ],
   "source": [
    "query = \"\"\"\n",
    "SELECT siniestro_fecha, COUNT(*) AS total_siniestros\n",
    "FROM siniestros_2024\n",
    "GROUP BY siniestro_fecha\n",
    "ORDER BY total_siniestros DESC;\n",
    "\"\"\"\n",
    "result = pd.read_sql_query(query, conn)\n",
    "print(result)\n"
   ]
  }
 ],
 "metadata": {
  "kernelspec": {
   "display_name": "rag-sqlagent",
   "language": "python",
   "name": "python3"
  },
  "language_info": {
   "codemirror_mode": {
    "name": "ipython",
    "version": 3
   },
   "file_extension": ".py",
   "mimetype": "text/x-python",
   "name": "python",
   "nbconvert_exporter": "python",
   "pygments_lexer": "ipython3",
   "version": "3.10.12"
  }
 },
 "nbformat": 4,
 "nbformat_minor": 2
}
