{
 "cells": [
  {
   "cell_type": "code",
   "execution_count": 7,
   "metadata": {},
   "outputs": [
    {
     "data": {
      "text/plain": [
       "True"
      ]
     },
     "execution_count": 7,
     "metadata": {},
     "output_type": "execute_result"
    }
   ],
   "source": [
    "from pyprojroot import here\n",
    "from langchain_community.utilities import SQLDatabase\n",
    "from langchain.chains import create_sql_query_chain\n",
    "from langchain_community.tools.sql_database.tool import QuerySQLDataBaseTool\n",
    "from langchain_core.prompts import PromptTemplate\n",
    "from langchain_core.output_parsers import StrOutputParser\n",
    "from langchain_core.runnables import RunnablePassthrough\n",
    "from operator import itemgetter\n",
    "from langchain_openai import ChatOpenAI\n",
    "import os\n",
    "from dotenv import load_dotenv\n",
    "load_dotenv()"
   ]
  },
  {
   "cell_type": "markdown",
   "metadata": {},
   "source": [
    "**Set the environment variables and load the LLM**"
   ]
  },
  {
   "cell_type": "code",
   "execution_count": 8,
   "metadata": {},
   "outputs": [],
   "source": [
    "os.environ['OPENAI_API_KEY'] = os.getenv(\"OPEN_AI_API_KEY\")\n",
    "\n",
    "llm = ChatOpenAI(model=\"gpt-3.5-turbo\")\n",
    "# llm = ChatOpenAI(model=\"gpt-4o-mini\")\n",
    "# llm = ChatOpenAI(model=\"gpt-4o\")"
   ]
  },
  {
   "cell_type": "markdown",
   "metadata": {},
   "source": [
    "**Load and test the sqlite db**"
   ]
  },
  {
   "cell_type": "code",
   "execution_count": 17,
   "metadata": {},
   "outputs": [
    {
     "name": "stdout",
     "output_type": "stream",
     "text": [
      "sqlite\n",
      "['siniestros_procesados']\n"
     ]
    },
    {
     "data": {
      "text/plain": [
       "\"[(217499, '2024-07-27', '2:00:00', 'CORRIENTES', 18, 'CAPITAL', 21, 'CORRIENTES', 'Urbana', 'Calle', 'QUINQUELA MARTIN', '743', 'GIMENEZ', 'LAFERRERE', None, None, 2, 0, 0, 2, 0, 'Colisión entre vehículos', 'Colisión entre vehículos', None, None, 'Alcance', 2, None, 'Intersección / cruce', None, None, 'S/D', 'Asfalto', None, 'Apto', 'Seca', None, 'Ninguna', None, 'Ninguna', None, 'S/D', 'S/D', 'S/D', 'Noche', 'NO', None, 'Despejado', None, None, 'Sin Semáforo'), (224937, '2024-07-27', '8:45:00', 'CORRIENTES', 18, 'CAPITAL', 21, 'CORRIENTES', 'Urbana', 'Calle', 'SAN LORENZO', '800', '9 DE julio', None, None, None, 2, 1, 0, 2, 0, 'Colisión entre vehículos', 'Colisión entre vehículos', None, None, 'Lateral', 2, None, 'Intersección / cruce', None, None, 'S/D', 'Asfalto', None, 'Apto', 'Seca', None, 'Ninguna', None, 'Ninguna', None, 'Si', 'Si', 'No', 'Día', None, None, 'Despejado', None, None, 'Funciona'), (231749, '2024-07-27', '22:40:00', 'CORRIENTES', 18, 'CAPITAL', 21, 'CORRIENTES', 'Urbana', 'Avenida', 'AV 3 DE ABRIL', '1000', 'LA RIOJA', 'SAN JUAN', None, None, 2, 0, 0, 2, 0, 'Colisión entre vehículos', 'Colisión entre vehículos', None, None, None, 2, None, 'Mitad de la calle / avenida', None, None, None, None, None, 'Apto', 'Seca', None, 'Otro', None, 'Asfalto', None, 'Si', 'Si', 'No', 'Noche', 'NO', None, 'Despejado', None, None, 'S/D'), (223345, '2024-07-22', '20:50:00', 'CORRIENTES', 18, 'CAPITAL', 21, 'CORRIENTES', 'Urbana', 'Avenida', 'AV LIBERTAD', '5200', None, None, None, None, 2, 0, 0, 2, 0, 'Colisión entre vehículos', 'Colisión entre vehículos', None, None, 'Alcance', 2, None, 'Intersección / cruce', None, None, 'S/D', 'Asfalto', None, 'Apto', 'Seca', None, 'Cantero central', None, 'Ninguna', None, 'Si', 'Si', 'S/D', 'Noche', 'NO', None, None, None, None, 'Sin Semáforo'), (233239, '2024-07-19', '22:24:00', 'CORRIENTES', 18, 'CAPITAL', 21, 'CORRIENTES', 'Urbana', 'Calle', 'GUEMES', '1500', None, None, '-2.747.819', '-5.880.731', 0, 1, 0, 1, 0, 'Caída desde vehículo', 'Caída desde vehículo', None, None, None, 1, None, 'Intersección / cruce', None, None, 'S/D', 'Asfalto', None, 'Apto', None, None, 'Ninguna', None, 'S/D', None, 'S/D', 'S/D', 'S/D', 'Noche', 'NO', None, 'Despejado', None, None, 'S/D'), (232115, '2024-07-17', '22:00:00', 'CORRIENTES', 18, 'CAPITAL', 21, 'CORRIENTES', 'Urbana', 'Calle', '9 DE julio', '1700', 'ESPAÑA', None, '-2.746.705', '-5.882.910', 1, 1, 0, 2, 0, 'Colisión entre vehículos', 'Colisión entre vehículos', None, None, 'Angulo', 2, None, 'Intersección / cruce', None, None, 'No obstruido', 'Asfalto', None, 'Apto', 'Seca', None, 'Ninguna', None, 'Ninguna', None, 'Si', 'Si', 'No', 'Noche', 'NO', None, 'Despejado', None, None, 'Sin Semáforo'), (230861, '2024-07-10', '19:48:00', 'CORRIENTES', 18, 'CAPITAL', 21, 'CORRIENTES', 'Urbana', 'Avenida', 'AV FERRE', '2300', 'PERU', None, '-2.747.734', '-5.882.246', 0, 1, 0, 1, 0, 'Colisión entre vehículos', 'Colisión entre vehículos', None, None, None, 1, None, 'Intersección / cruce', None, None, 'S/D', None, None, 'Apto', 'Seca', None, 'Otro', None, None, None, 'Si', 'Si', None, 'Noche', 'NO', None, 'Despejado', None, None, 'Sin Semáforo'), (224096, '2024-07-09', '12:15:00', 'CORRIENTES', 18, 'CAPITAL', 21, 'CORRIENTES', 'Urbana', 'Calle', 'ITUZAINGO', '1000', 'HIPOLITO YRIGOYEN', None, None, None, 2, 0, 0, 2, 0, 'Colisión entre vehículos', 'Colisión entre vehículos', None, None, 'Lateral', 2, None, 'Intersección / cruce', None, None, 'S/D', 'Asfalto', None, 'Apto', 'Seca', None, 'Ninguna', None, 'Ninguna', None, 'Si', 'Si', 'No', 'Día', None, None, 'Despejado', None, None, 'Sin Semáforo'), (218235, '2024-07-08', '20:00:00', 'CORRIENTES', 18, 'CAPITAL', 21, 'CORRIENTES', 'Urbana', 'Avenida', 'AV CHACABUCO', '1300', 'BELGRANO', None, None, None, 2, 0, 0, 2, 0, 'Colisión entre vehículos', 'Colisión entre vehículos', None, None, 'Lateral', 2, None, 'Intersección / cruce', None, None, 'S/D', 'Asfalto', None, 'Apto', 'Seca', None, 'Cantero central', None, 'Ninguna', None, 'Si', 'Si', 'No', 'Noche', 'NO', None, 'Despejado', None, None, 'Sin Semáforo'), (231658, '2024-07-08', '15:20:00', 'CORRIENTES', 18, 'CAPITAL', 21, 'CORRIENTES', 'Urbana', 'Avenida', 'AV INDEPEMDENCIA', '5400', 'DUMAS', None, '-2.748.431', '-5.878.537', 1, 1, 0, 2, 0, 'Colisión entre vehículos', 'Colisión entre vehículos', None, None, None, 2, None, 'Intersección / cruce', None, None, 'S/D', 'Asfalto', None, 'Apto', 'Seca', None, 'Otro', None, 'Asfalto', None, 'Si', 'Si', 'No', 'Día', None, None, 'Despejado', None, None, 'Funciona')]\""
      ]
     },
     "execution_count": 17,
     "metadata": {},
     "output_type": "execute_result"
    }
   ],
   "source": [
    "sqldb_directory = here(\"data/siniestros_procesados.db\")\n",
    "db = SQLDatabase.from_uri(\n",
    "    f\"sqlite:///{sqldb_directory}\")\n",
    "\n",
    "print(db.dialect)\n",
    "print(db.get_usable_table_names())\n",
    "db.run(\"SELECT * FROM siniestros_procesados LIMIT 10;\")\n",
    "\n",
    "# from sqlalchemy import create_engine, inspect\n",
    "# from sqlalchemy.orm import sessionmaker\n",
    "# engine = create_engine(db_path)\n",
    "\n",
    "# # Create a session\n",
    "# Session = sessionmaker(bind=engine)\n",
    "# session = Session()\n",
    "\n",
    "# # Use SQLAlchemy's Inspector to get database information\n",
    "# inspector = inspect(engine)\n",
    "\n",
    "# # Get table names\n",
    "# tables = inspector.get_table_names()\n",
    "# print(\"Tables in the database:\", tables)\n",
    "# print(len(tables))"
   ]
  },
  {
   "cell_type": "markdown",
   "metadata": {},
   "source": [
    "**Create the SQL agent chain and run a test query**"
   ]
  },
  {
   "cell_type": "code",
   "execution_count": 12,
   "metadata": {},
   "outputs": [],
   "source": [
    "system_role = \"\"\"Given the following user question, corresponding SQL query, and SQL result, answer the user question.\\n\n",
    "    Question: {question}\\n\n",
    "    SQL Query: {query}\\n\n",
    "    SQL Result: {result}\\n\n",
    "    Answer:\n",
    "    \"\"\"\n",
    "\n",
    "execute_query = QuerySQLDataBaseTool(db=db)\n",
    "write_query = create_sql_query_chain(\n",
    "    llm, db)\n",
    "answer_prompt = PromptTemplate.from_template(\n",
    "    system_role)\n",
    "answer = answer_prompt | llm | StrOutputParser()\n",
    "chain = (\n",
    "    RunnablePassthrough.assign(query=write_query).assign(\n",
    "        result=itemgetter(\"query\") | execute_query\n",
    "    )\n",
    "    | answer\n",
    ")"
   ]
  },
  {
   "cell_type": "code",
   "execution_count": 21,
   "metadata": {},
   "outputs": [
    {
     "data": {
      "text/plain": [
       "'El tipo de siniestro más común es la \"Colisión entre vehículos\", con un total de 123 siniestros de este tipo registrados.'"
      ]
     },
     "execution_count": 21,
     "metadata": {},
     "output_type": "execute_result"
    }
   ],
   "source": [
    "message = \"¿Cuál es el tipo de siniestro más común?\"\n",
    "response = chain.invoke({\"question\": message})\n",
    "response"
   ]
  },
  {
   "cell_type": "markdown",
   "metadata": {},
   "source": [
    "**Travel SQL-agent Tool Design**"
   ]
  },
  {
   "cell_type": "code",
   "execution_count": 19,
   "metadata": {},
   "outputs": [],
   "source": [
    "from langchain_core.tools import tool\n",
    "from langchain_community.utilities import SQLDatabase\n",
    "from langchain.chains import create_sql_query_chain\n",
    "from langchain_community.tools.sql_database.tool import QuerySQLDataBaseTool\n",
    "from langchain_core.prompts import PromptTemplate\n",
    "from langchain_core.output_parsers import StrOutputParser\n",
    "from langchain_core.runnables import RunnablePassthrough\n",
    "from operator import itemgetter\n",
    "from langchain_openai import ChatOpenAI\n",
    "\n",
    "\n",
    "class TravelSQLAgentTool:\n",
    "    \"\"\"\n",
    "    A tool for interacting with a travel-related SQL database using an LLM (Language Model) to generate and execute SQL queries.\n",
    "\n",
    "    This tool enables users to ask travel-related questions, which are transformed into SQL queries by a language model.\n",
    "    The SQL queries are executed on the provided SQLite database, and the results are processed by the language model to\n",
    "    generate a final answer for the user.\n",
    "\n",
    "    Attributes:\n",
    "        sql_agent_llm (ChatOpenAI): An instance of a ChatOpenAI language model used to generate and process SQL queries.\n",
    "        system_role (str): A system prompt template that guides the language model in answering user questions based on SQL query results.\n",
    "        db (SQLDatabase): An instance of the SQL database used to execute queries.\n",
    "        chain (RunnablePassthrough): A chain of operations that creates SQL queries, executes them, and generates a response.\n",
    "\n",
    "    Methods:\n",
    "        __init__: Initializes the TravelSQLAgentTool by setting up the language model, SQL database, and query-answering pipeline.\n",
    "    \"\"\"\n",
    "\n",
    "    def __init__(self, llm: str, sqldb_directory: str, llm_temerature: float) -> None:\n",
    "        \"\"\"\n",
    "        Initializes the TravelSQLAgentTool with the necessary configurations.\n",
    "\n",
    "        Args:\n",
    "            llm (str): The name of the language model to be used for generating and interpreting SQL queries.\n",
    "            sqldb_directory (str): The directory path where the SQLite database is stored.\n",
    "            llm_temerature (float): The temperature setting for the language model, controlling response randomness.\n",
    "        \"\"\"\n",
    "        self.sql_agent_llm = ChatOpenAI(\n",
    "            model=llm, temperature=llm_temerature)\n",
    "        self.system_role = \"\"\"Given the following user question, corresponding SQL query, and SQL result, answer the user question.\\n\n",
    "            Question: {question}\\n\n",
    "            SQL Query: {query}\\n\n",
    "            SQL Result: {result}\\n\n",
    "            Answer:\n",
    "            \"\"\"\n",
    "        self.db = SQLDatabase.from_uri(\n",
    "            f\"sqlite:///{sqldb_directory}\")\n",
    "        print(self.db.get_usable_table_names())\n",
    "\n",
    "        execute_query = QuerySQLDataBaseTool(db=self.db)\n",
    "        write_query = create_sql_query_chain(\n",
    "            self.sql_agent_llm, self.db)\n",
    "        answer_prompt = PromptTemplate.from_template(\n",
    "            self.system_role)\n",
    "\n",
    "        answer = answer_prompt | self.sql_agent_llm | StrOutputParser()\n",
    "        self.chain = (\n",
    "            RunnablePassthrough.assign(query=write_query).assign(\n",
    "                result=itemgetter(\"query\") | execute_query\n",
    "            )\n",
    "            | answer\n",
    "        )"
   ]
  },
  {
   "cell_type": "code",
   "execution_count": 20,
   "metadata": {},
   "outputs": [
    {
     "ename": "ModuleNotFoundError",
     "evalue": "No module named 'agent_graph'",
     "output_type": "error",
     "traceback": [
      "\u001b[0;31m---------------------------------------------------------------------------\u001b[0m",
      "\u001b[0;31mModuleNotFoundError\u001b[0m                       Traceback (most recent call last)",
      "Cell \u001b[0;32mIn[20], line 1\u001b[0m\n\u001b[0;32m----> 1\u001b[0m \u001b[38;5;28;01mfrom\u001b[39;00m \u001b[38;5;21;01magent_graph\u001b[39;00m\u001b[38;5;21;01m.\u001b[39;00m\u001b[38;5;21;01mload_tools_config\u001b[39;00m \u001b[38;5;28;01mimport\u001b[39;00m LoadToolsConfig\n\u001b[1;32m      3\u001b[0m TOOLS_CFG \u001b[38;5;241m=\u001b[39m LoadToolsConfig()\n\u001b[1;32m      5\u001b[0m \u001b[38;5;129m@tool\u001b[39m\n\u001b[1;32m      6\u001b[0m \u001b[38;5;28;01mdef\u001b[39;00m \u001b[38;5;21mquery_travel_sqldb\u001b[39m(query: \u001b[38;5;28mstr\u001b[39m) \u001b[38;5;241m-\u001b[39m\u001b[38;5;241m>\u001b[39m \u001b[38;5;28mstr\u001b[39m:\n",
      "\u001b[0;31mModuleNotFoundError\u001b[0m: No module named 'agent_graph'"
     ]
    }
   ],
   "source": [
    "from agent_graph.load_tools_config import LoadToolsConfig\n",
    "\n",
    "TOOLS_CFG = LoadToolsConfig()\n",
    "\n",
    "@tool\n",
    "def query_travel_sqldb(query: str) -> str:\n",
    "    \"\"\"Query the Swiss Airline SQL Database and access all the company's information. Input should be a search query.\"\"\"\n",
    "    agent = TravelSQLAgentTool(\n",
    "        llm=TOOLS_CFG.travel_sqlagent_llm,\n",
    "        sqldb_directory=TOOLS_CFG.travel_sqldb_directory,\n",
    "        llm_temerature=TOOLS_CFG.travel_sqlagent_llm_temperature\n",
    "    )\n",
    "    response = agent.chain.invoke({\"question\": query})\n",
    "    return response"
   ]
  }
 ],
 "metadata": {
  "kernelspec": {
   "display_name": "rag-sqlagent",
   "language": "python",
   "name": "python3"
  },
  "language_info": {
   "codemirror_mode": {
    "name": "ipython",
    "version": 3
   },
   "file_extension": ".py",
   "mimetype": "text/x-python",
   "name": "python",
   "nbconvert_exporter": "python",
   "pygments_lexer": "ipython3",
   "version": "3.10.12"
  }
 },
 "nbformat": 4,
 "nbformat_minor": 2
}
